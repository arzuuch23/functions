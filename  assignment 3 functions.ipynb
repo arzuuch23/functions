{
 "cells": [
  {
   "cell_type": "markdown",
   "id": "4a1a76d7-ec7d-4447-ba32-c1e18191d1e0",
   "metadata": {},
   "source": [
    "# Name: Arzoo Mehboob\n",
    "# Roll no: SP25-BBD-018"
   ]
  },
  {
   "cell_type": "markdown",
   "id": "653a485a-f931-4c6c-99fe-d796d2e92a9e",
   "metadata": {},
   "source": [
    "# Question no 01: "
   ]
  },
  {
   "cell_type": "code",
   "execution_count": 31,
   "id": "cb55a288-c510-412b-a666-c02f1e1b214f",
   "metadata": {},
   "outputs": [
    {
     "name": "stdout",
     "output_type": "stream",
     "text": [
      "Hello,Python leader !\n"
     ]
    }
   ],
   "source": [
    "def say_hello():\n",
    "    print(\"Hello,Python leader !\")\n",
    "\n",
    "say_hello()"
   ]
  },
  {
   "cell_type": "markdown",
   "id": "2b063d82-f244-436c-ad42-78da5f9067be",
   "metadata": {},
   "source": [
    "# Question no 02"
   ]
  },
  {
   "cell_type": "code",
   "execution_count": 29,
   "id": "d31499bd-e1e2-4581-8924-b2ee1d22ce5c",
   "metadata": {},
   "outputs": [
    {
     "name": "stdout",
     "output_type": "stream",
     "text": [
      "Hey,Rehan,Welcome to squid game\n"
     ]
    }
   ],
   "source": [
    "def greet_user(name):\n",
    "    print(\"Hey,\" + name + \",Welcome to squid game\")\n",
    "\n",
    "greet_user(\"Rehan\")"
   ]
  },
  {
   "cell_type": "markdown",
   "id": "c9b87725-7128-47ce-a9d3-31b358a7ece8",
   "metadata": {},
   "source": [
    "# Question no 03"
   ]
  },
  {
   "cell_type": "code",
   "execution_count": 40,
   "id": "d9daded0-3915-41e2-aafb-54f210ecdcd1",
   "metadata": {},
   "outputs": [
    {
     "name": "stdout",
     "output_type": "stream",
     "text": [
      "\n",
      " I have a cat , His name is Oggy.\n"
     ]
    }
   ],
   "source": [
    "def describe_pet(animal_type, pet_name):\n",
    "    print(f\"\\n I have a {animal_type} , His name is {pet_name.title()}.\")\n",
    "\n",
    "describe_pet(\"cat\", \"oggy\")"
   ]
  },
  {
   "cell_type": "markdown",
   "id": "0a12ac2e-028a-4281-b09c-cb1c9a08dac6",
   "metadata": {},
   "source": [
    "# Quesion no 04"
   ]
  },
  {
   "cell_type": "code",
   "execution_count": 43,
   "id": "9db035c8-85ef-4713-8806-2f013b38237c",
   "metadata": {},
   "outputs": [
    {
     "name": "stdout",
     "output_type": "stream",
     "text": [
      "\n",
      " I have a dog , His name is Buddy.\n",
      "\n",
      " I have a cat , His name is Oggy.\n"
     ]
    }
   ],
   "source": [
    "def describe_pet(pet_name, animal_type = 'dog'):\n",
    "    print(f\"\\n I have a {animal_type} , His name is {pet_name.title()}.\")\n",
    "\n",
    "describe_pet('buddy')\n",
    "describe_pet('Oggy', 'cat')\n",
    "    "
   ]
  },
  {
   "cell_type": "markdown",
   "id": "874625af-c4e2-4341-a6ce-12e4d5c9af4e",
   "metadata": {},
   "source": [
    "# Question no 05"
   ]
  },
  {
   "cell_type": "code",
   "execution_count": 52,
   "id": "7de2f3cf-6782-41ac-9dd6-24b46916aa75",
   "metadata": {},
   "outputs": [
    {
     "name": "stdout",
     "output_type": "stream",
     "text": [
      "Arzoo Mehboob\n"
     ]
    }
   ],
   "source": [
    "def get_formatted_name(first , last):\n",
    "    print(f\"{first.title()} {last.title()}\")\n",
    "\n",
    "get_formatted_name('arzoo','mehboob')"
   ]
  },
  {
   "cell_type": "markdown",
   "id": "dc54decb-ba05-4c6e-873c-6229d4054bed",
   "metadata": {},
   "source": [
    "# Question no 06"
   ]
  },
  {
   "cell_type": "code",
   "execution_count": 25,
   "id": "18ee355b-1bfd-4d0f-8675-76772cf142d8",
   "metadata": {},
   "outputs": [
    {
     "name": "stdout",
     "output_type": "stream",
     "text": [
      "None\n"
     ]
    }
   ],
   "source": [
    "def get_formatted_name(first_name ,last_name , middle_name = ''):\n",
    "    if middle_name:\n",
    "        full_name = f\"{first_name.title()} {middle_name.title()} {last_name.title()}\"\n",
    "    else:\n",
    "        full_name = f\"{first_name.title()} {last_name.title()}\"\n",
    "        \n",
    "\n",
    "print(get_formatted_name('mehar','arzoo','mehboob'))\n",
    "print(get\n",
    "\n",
    "\n"
   ]
  },
  {
   "cell_type": "markdown",
   "id": "d0c275d8-eca8-4017-a1b2-844c196931b5",
   "metadata": {},
   "source": [
    "# Question no 07"
   ]
  },
  {
   "cell_type": "code",
   "execution_count": 1,
   "id": "d1b789b1-6ec1-46f5-9448-669a712dfd16",
   "metadata": {},
   "outputs": [
    {
     "name": "stdout",
     "output_type": "stream",
     "text": [
      "{'first_name': 'arzu', 'last_name': 'wajeeha'}\n",
      "{'first_name': 'arzu', 'last_name': 'zukhruf', 'age': 30}\n"
     ]
    }
   ],
   "source": [
    "def build_person(first, last, age=None):\n",
    "    person = {\n",
    "        'first_name': first,\n",
    "        'last_name': last\n",
    "    }\n",
    "    if age is not None:\n",
    "        person['age'] = age\n",
    "    return person\n",
    "\n",
    "person1 = build_person('arzu', 'wajeeha')\n",
    "print(person1)\n",
    "person2 = build_person('arzu', 'zukhruf', age=30)\n",
    "print(person2)"
   ]
  },
  {
   "cell_type": "markdown",
   "id": "219edceb-4f04-4f5d-9fd7-253683f4b62d",
   "metadata": {},
   "source": [
    "# Question no 08"
   ]
  },
  {
   "cell_type": "code",
   "execution_count": 2,
   "id": "1bab8251-1ccf-491d-9ad6-ae9aa58e47b5",
   "metadata": {},
   "outputs": [
    {
     "name": "stdout",
     "output_type": "stream",
     "text": [
      "Hello, Arzu!\n",
      "Hello, Essa!\n",
      "Hello, Rehan!\n"
     ]
    }
   ],
   "source": [
    "def greet_users(usernames):\n",
    "    for username in usernames:\n",
    "        print(f\"Hello, {username.title()}!\")\n",
    "\n",
    "user_list = ['arzu', 'essa', 'rehan']\n",
    "greet_users(user_list)"
   ]
  },
  {
   "cell_type": "markdown",
   "id": "c8a695cb-33cd-4b75-977a-a4be65883d98",
   "metadata": {},
   "source": [
    "# Question no 9"
   ]
  },
  {
   "cell_type": "code",
   "execution_count": 3,
   "id": "a16087e9-8e8e-4f56-9a22-0321a1ee4ae7",
   "metadata": {},
   "outputs": [
    {
     "name": "stdout",
     "output_type": "stream",
     "text": [
      "Making a pizza with the following toppings:\n",
      "- pepperoni\n",
      "- mushrooms\n",
      "- green peppers\n"
     ]
    }
   ],
   "source": [
    "def make_pizza(*toppings):\n",
    "    print(\"Making a pizza with the following toppings:\")\n",
    "    for topping in toppings:\n",
    "        print(f\"- {topping}\")\n",
    "\n",
    "make_pizza('pepperoni', 'mushrooms', 'green peppers')"
   ]
  },
  {
   "cell_type": "markdown",
   "id": "338a7bc8-05ed-4a43-aff6-5e94396e5425",
   "metadata": {},
   "source": [
    "# Question no 10"
   ]
  },
  {
   "cell_type": "code",
   "execution_count": null,
   "id": "34ebee95-5516-4b21-8be5-5ec90a6f0238",
   "metadata": {},
   "outputs": [],
   "source": []
  }
 ],
 "metadata": {
  "kernelspec": {
   "display_name": "Python 3 (ipykernel)",
   "language": "python",
   "name": "python3"
  },
  "language_info": {
   "codemirror_mode": {
    "name": "ipython",
    "version": 3
   },
   "file_extension": ".py",
   "mimetype": "text/x-python",
   "name": "python",
   "nbconvert_exporter": "python",
   "pygments_lexer": "ipython3",
   "version": "3.12.4"
  }
 },
 "nbformat": 4,
 "nbformat_minor": 5
}
